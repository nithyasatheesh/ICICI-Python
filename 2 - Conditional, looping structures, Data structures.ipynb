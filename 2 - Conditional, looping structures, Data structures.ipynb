{
 "cells": [
  {
   "cell_type": "markdown",
   "id": "cceeb44c",
   "metadata": {},
   "source": [
    "### Conditional Statements\n",
    "\n",
    "#1) if statements\n",
    "\n",
    "#2) if-else statements\n",
    "\n",
    "#3) elif statements\n",
    "\n",
    "#4) Nested if-else statements"
   ]
  },
  {
   "cell_type": "markdown",
   "id": "2f1920f5",
   "metadata": {},
   "source": [
    "Python if statement is one of the most commonly used conditional statements in programming languages. It decides whether certain statements need to be executed or not. It checks for a given condition, if the condition is true, then the set of code present inside the ” if ” block will be executed otherwise not.\n",
    "\n",
    "#syntax: if condition:\n",
    "             ## statements"
   ]
  },
  {
   "cell_type": "code",
   "execution_count": 6,
   "id": "7c99cd06",
   "metadata": {},
   "outputs": [
    {
     "name": "stdout",
     "output_type": "stream",
     "text": [
      "6\n"
     ]
    }
   ],
   "source": [
    "x=input()"
   ]
  },
  {
   "cell_type": "code",
   "execution_count": 7,
   "id": "4fa27b6d",
   "metadata": {},
   "outputs": [
    {
     "data": {
      "text/plain": [
       "str"
      ]
     },
     "execution_count": 7,
     "metadata": {},
     "output_type": "execute_result"
    }
   ],
   "source": [
    "type(x)"
   ]
  },
  {
   "cell_type": "code",
   "execution_count": 5,
   "id": "32d0fafc",
   "metadata": {},
   "outputs": [
    {
     "name": "stdout",
     "output_type": "stream",
     "text": [
      "10 is less than 15\n"
     ]
    }
   ],
   "source": [
    "# check whether the given number is less than 15\n",
    "n=int(input())\n",
    "if n<15:\n",
    "    print(n,\"is less than 15\")"
   ]
  },
  {
   "cell_type": "markdown",
   "id": "6d4fa871",
   "metadata": {},
   "source": [
    "##### if-else statement \n",
    "evaluates the Boolean expression. If the condition is TRUE then, the code present in the “ if “ block will be executed otherwise the code of the “else“ block will be executed"
   ]
  },
  {
   "cell_type": "raw",
   "id": "e9682ac6",
   "metadata": {},
   "source": [
    "Syntax:\n",
    "\n",
    "If (EXPRESSION == TRUE):\n",
    "\n",
    "        Statement (Body of the block)\n",
    "        \n",
    "else:\n",
    "\n",
    "        Statement (Body of the block)"
   ]
  },
  {
   "cell_type": "code",
   "execution_count": 8,
   "id": "4edcc8fc",
   "metadata": {},
   "outputs": [
    {
     "name": "stdout",
     "output_type": "stream",
     "text": [
      "40\n",
      "40 is greater than 15\n"
     ]
    }
   ],
   "source": [
    "n=int(input())\n",
    "if n<15:\n",
    "    print(n,\"is less than 15\")\n",
    "else:\n",
    "    print(n, \"is greater than 15\")"
   ]
  },
  {
   "cell_type": "markdown",
   "id": "ff67f7fa",
   "metadata": {},
   "source": [
    "#### elif statements\n",
    "“elif” statement is used to check multiple conditions only if the given condition is false. It’s similar to an “if-else” statement and the only difference is that in “else” we will not check the condition but in “elif” we will check the condition.\n",
    "\n",
    "Syntax:\n",
    "\n",
    "if (condition):\n",
    "\n",
    "        #Set of statement to execute if condition is true\n",
    "elif (condition):\n",
    "\n",
    "        #Set of statements to be executed when if condition is false and elif condition is true\n",
    "else:\n",
    "\n",
    "   #Set of statement to be executed when both if and elif conditions are false"
   ]
  },
  {
   "cell_type": "code",
   "execution_count": 11,
   "id": "58ed73a1",
   "metadata": {},
   "outputs": [
    {
     "name": "stdout",
     "output_type": "stream",
     "text": [
      "78\n",
      "The given value is positive\n"
     ]
    }
   ],
   "source": [
    "# write a program to check the given number is positive or negative or zero\n",
    "val=int(input())\n",
    "if val==0:\n",
    "    print(\"The given value is zero\")\n",
    "elif val>0:\n",
    "    print(\"The given value is positive\")\n",
    "else:\n",
    "    print(\"The given value is Negative\")"
   ]
  },
  {
   "cell_type": "code",
   "execution_count": null,
   "id": "05b6b022",
   "metadata": {},
   "outputs": [],
   "source": []
  },
  {
   "cell_type": "markdown",
   "id": "1b931ba1",
   "metadata": {},
   "source": [
    "#### Nested if-else statements\n",
    "Nested “if-else” statements mean that an “if” statement or “if-else” statement is present inside another if or if-else block\n",
    "\n",
    "if(condition):\n",
    "\n",
    "       #Statements to execute if condition is true\n",
    "       if(condition):\n",
    "\n",
    "                #Statements to execute if condition is true\n",
    "       #end of nested if\n",
    "#end of if"
   ]
  },
  {
   "cell_type": "code",
   "execution_count": 14,
   "id": "e810005f",
   "metadata": {},
   "outputs": [
    {
     "name": "stdout",
     "output_type": "stream",
     "text": [
      "98\n",
      "The given number is positive\n"
     ]
    }
   ],
   "source": [
    "val=int(input())\n",
    "if val>=0:\n",
    "    if val==0:\n",
    "        print(\"The given number is zero\")\n",
    "    else:\n",
    "        print(\"The given number is positive\")\n",
    "else:\n",
    "    print(\"The given number is negative\")"
   ]
  },
  {
   "cell_type": "markdown",
   "id": "39de3b40",
   "metadata": {},
   "source": [
    "### Loops\n",
    "     \n",
    "        - For loop\n",
    "        \n",
    "        - While loop\n",
    "        \n",
    "        - control statements\n"
   ]
  },
  {
   "cell_type": "markdown",
   "id": "b8cb39e7",
   "metadata": {},
   "source": [
    "#### Loops\n",
    "  - For loop\n",
    "    \n",
    "    The for loop in Python is used to iterate over a sequence (list, tuple, string) or other iterable objects. Iterating over a sequence is called traversal.\n",
    "\n",
    "    Loop continues until we reach the last item in the sequence. The body of for loop is separated from the rest of the code using indentation"
   ]
  },
  {
   "cell_type": "code",
   "execution_count": null,
   "id": "206520ad",
   "metadata": {},
   "outputs": [],
   "source": [
    "### For loop\n",
    "#syntax: for i in iterbale:\n",
    "             #statements"
   ]
  },
  {
   "cell_type": "markdown",
   "id": "f943e6c0",
   "metadata": {},
   "source": [
    "#### while loop\n",
    "\n",
    "- The while loop in Python is used to iterate over a block of code as long as the test expression (condition) is true.\n",
    "\n",
    "##### syntax: while expression:\n",
    "             #statements"
   ]
  },
  {
   "cell_type": "code",
   "execution_count": 16,
   "id": "1f72d5a0",
   "metadata": {},
   "outputs": [
    {
     "name": "stdout",
     "output_type": "stream",
     "text": [
      "F\n",
      "r\n",
      "i\n",
      "d\n",
      "a\n",
      "y\n"
     ]
    }
   ],
   "source": [
    "s=\"Friday\"\n",
    "for i in s:\n",
    "    print(i)"
   ]
  },
  {
   "cell_type": "code",
   "execution_count": 17,
   "id": "afcf8fb5",
   "metadata": {},
   "outputs": [
    {
     "name": "stdout",
     "output_type": "stream",
     "text": [
      "0\n",
      "1\n",
      "2\n",
      "3\n",
      "4\n"
     ]
    }
   ],
   "source": [
    "for x in range(5): # range(n) takes values 0 to n-1\n",
    "    print(x)"
   ]
  },
  {
   "cell_type": "code",
   "execution_count": 19,
   "id": "a41ff29a",
   "metadata": {},
   "outputs": [
    {
     "name": "stdout",
     "output_type": "stream",
     "text": [
      "hello\n",
      "hello\n",
      "hello\n"
     ]
    }
   ],
   "source": [
    "#while loop\n",
    "# print 'hello' 3 times\n",
    "c=1\n",
    "while c<=3:\n",
    "    print(\"hello\")\n",
    "    c=c+1\n",
    "    #c+=1"
   ]
  },
  {
   "cell_type": "code",
   "execution_count": 21,
   "id": "5fb39d31",
   "metadata": {},
   "outputs": [
    {
     "name": "stdout",
     "output_type": "stream",
     "text": [
      "hello\n",
      "hello\n",
      "hello\n"
     ]
    }
   ],
   "source": [
    "s=\"hello\"\n",
    "for c in range(3):\n",
    "    print(s)"
   ]
  },
  {
   "cell_type": "code",
   "execution_count": 22,
   "id": "e27bcb9a",
   "metadata": {},
   "outputs": [
    {
     "name": "stdout",
     "output_type": "stream",
     "text": [
      "55\n"
     ]
    }
   ],
   "source": [
    "# find the  sum of 10 natural numbers:1+2+....+10\n",
    "sum1=0\n",
    "for i in range(1,11):\n",
    "    sum1=sum1+i\n",
    "print(sum1)"
   ]
  },
  {
   "cell_type": "code",
   "execution_count": 25,
   "id": "fa7a62e3",
   "metadata": {},
   "outputs": [
    {
     "name": "stdout",
     "output_type": "stream",
     "text": [
      "55\n"
     ]
    }
   ],
   "source": [
    "sum1=0\n",
    "c=1\n",
    "while c<11:\n",
    "    sum1=sum1+c\n",
    "    c=c+1\n",
    "print(sum1)"
   ]
  },
  {
   "cell_type": "markdown",
   "id": "121061a5",
   "metadata": {},
   "source": [
    "### Data Structures\n",
    "\n",
    "         - Lists\n",
    "    \n",
    "         - Tuple\n",
    "        \n",
    "         - Dictionary\n",
    "          "
   ]
  },
  {
   "cell_type": "markdown",
   "id": "005991e6",
   "metadata": {},
   "source": [
    "##### Lists\n",
    "\n",
    "An ordered sequence of values enclosed within [ ].\n",
    "\n",
    "- List can be created by [] or list()\n",
    "\n",
    "- Lists are mutable : Can do changes\n",
    "\n",
    "-  List can contain multiple data types\n",
    "\n",
    "- Lists are iterables"
   ]
  },
  {
   "cell_type": "code",
   "execution_count": 26,
   "id": "766f748e",
   "metadata": {},
   "outputs": [],
   "source": [
    "list1=list()\n",
    "list22=[]"
   ]
  },
  {
   "cell_type": "code",
   "execution_count": 27,
   "id": "afd67844",
   "metadata": {},
   "outputs": [
    {
     "name": "stdout",
     "output_type": "stream",
     "text": [
      "<class 'list'>\n",
      "<class 'list'>\n"
     ]
    }
   ],
   "source": [
    "print(type(l1)); print(type(l2))"
   ]
  },
  {
   "cell_type": "code",
   "execution_count": 30,
   "id": "9e6cfb33",
   "metadata": {},
   "outputs": [
    {
     "data": {
      "text/plain": [
       "[2, 9.8, 'wel', True]"
      ]
     },
     "execution_count": 30,
     "metadata": {},
     "output_type": "execute_result"
    }
   ],
   "source": [
    "list3=[2,9.8,'wel',True]\n",
    "list3"
   ]
  },
  {
   "cell_type": "code",
   "execution_count": 31,
   "id": "4d933c59",
   "metadata": {},
   "outputs": [
    {
     "data": {
      "text/plain": [
       "9.8"
      ]
     },
     "execution_count": 31,
     "metadata": {},
     "output_type": "execute_result"
    }
   ],
   "source": [
    "#indexing and slicing\n",
    "#extract 9.8\n",
    "list3[1]"
   ]
  },
  {
   "cell_type": "code",
   "execution_count": 32,
   "id": "3d753a19",
   "metadata": {},
   "outputs": [
    {
     "data": {
      "text/plain": [
       "['rita', 23, 300000, 'analyst']"
      ]
     },
     "execution_count": 32,
     "metadata": {},
     "output_type": "execute_result"
    }
   ],
   "source": [
    "emp4= [\"rita\",23,300000,\"analyst\"]\n",
    "emp4"
   ]
  },
  {
   "cell_type": "code",
   "execution_count": 33,
   "id": "e65dae8d",
   "metadata": {},
   "outputs": [
    {
     "data": {
      "text/plain": [
       "300000"
      ]
     },
     "execution_count": 33,
     "metadata": {},
     "output_type": "execute_result"
    }
   ],
   "source": [
    "emp4[2]"
   ]
  },
  {
   "cell_type": "code",
   "execution_count": 34,
   "id": "1d0a9d67",
   "metadata": {},
   "outputs": [
    {
     "data": {
      "text/plain": [
       "'dataengineer'"
      ]
     },
     "execution_count": 34,
     "metadata": {},
     "output_type": "execute_result"
    }
   ],
   "source": [
    "emp5=[\"riya\",22,\"dataengineer\"]\n",
    "emp5[2]"
   ]
  },
  {
   "cell_type": "code",
   "execution_count": 35,
   "id": "830191c0",
   "metadata": {},
   "outputs": [
    {
     "data": {
      "text/plain": [
       "['riya', 45, 'dataengineer']"
      ]
     },
     "execution_count": 35,
     "metadata": {},
     "output_type": "execute_result"
    }
   ],
   "source": [
    "emp5[1]=45\n",
    "emp5"
   ]
  },
  {
   "cell_type": "code",
   "execution_count": 36,
   "id": "5cae8569",
   "metadata": {},
   "outputs": [
    {
     "name": "stdout",
     "output_type": "stream",
     "text": [
      "riya\n",
      "45\n",
      "dataengineer\n"
     ]
    }
   ],
   "source": [
    "for i in emp5:\n",
    "    print(i)"
   ]
  },
  {
   "cell_type": "markdown",
   "id": "307d4fec",
   "metadata": {},
   "source": [
    "### Tuple\n",
    "\n",
    "- A tuple is a sequence of items\n",
    "- tuple is created by using () or tuple()\n",
    "- tuple contains mixed data type\n",
    "- tuples are immutable\n",
    "- tuples are iterable"
   ]
  },
  {
   "cell_type": "code",
   "execution_count": 37,
   "id": "519c6555",
   "metadata": {},
   "outputs": [],
   "source": [
    "tuple1=()\n",
    "tuple2=tuple()"
   ]
  },
  {
   "cell_type": "code",
   "execution_count": 38,
   "id": "bb119921",
   "metadata": {},
   "outputs": [
    {
     "name": "stdout",
     "output_type": "stream",
     "text": [
      "<class 'tuple'>\n",
      "<class 'tuple'>\n"
     ]
    }
   ],
   "source": [
    "print(type(tuple1));print(type(tuple2))"
   ]
  },
  {
   "cell_type": "code",
   "execution_count": 39,
   "id": "7de0ff97",
   "metadata": {},
   "outputs": [
    {
     "data": {
      "text/plain": [
       "('hello', 56, 9.8)"
      ]
     },
     "execution_count": 39,
     "metadata": {},
     "output_type": "execute_result"
    }
   ],
   "source": [
    "tuple3=('hello',56,9.8)\n",
    "tuple3"
   ]
  },
  {
   "cell_type": "code",
   "execution_count": 40,
   "id": "df2f1350",
   "metadata": {},
   "outputs": [
    {
     "data": {
      "text/plain": [
       "9.8"
      ]
     },
     "execution_count": 40,
     "metadata": {},
     "output_type": "execute_result"
    }
   ],
   "source": [
    "tuple3[2]"
   ]
  },
  {
   "cell_type": "code",
   "execution_count": 41,
   "id": "4dc0d00f",
   "metadata": {},
   "outputs": [
    {
     "ename": "TypeError",
     "evalue": "'tuple' object does not support item assignment",
     "output_type": "error",
     "traceback": [
      "\u001b[1;31m---------------------------------------------------------------------------\u001b[0m",
      "\u001b[1;31mTypeError\u001b[0m                                 Traceback (most recent call last)",
      "\u001b[1;32m~\\AppData\\Local\\Temp\\ipykernel_15744\\2833121989.py\u001b[0m in \u001b[0;36m<module>\u001b[1;34m\u001b[0m\n\u001b[1;32m----> 1\u001b[1;33m \u001b[0mtuple3\u001b[0m\u001b[1;33m[\u001b[0m\u001b[1;36m0\u001b[0m\u001b[1;33m]\u001b[0m\u001b[1;33m=\u001b[0m\u001b[1;34m\"all\"\u001b[0m\u001b[1;33m\u001b[0m\u001b[1;33m\u001b[0m\u001b[0m\n\u001b[0m",
      "\u001b[1;31mTypeError\u001b[0m: 'tuple' object does not support item assignment"
     ]
    }
   ],
   "source": [
    "tuple3[0]=\"all\""
   ]
  },
  {
   "cell_type": "code",
   "execution_count": 42,
   "id": "50bdc53c",
   "metadata": {},
   "outputs": [
    {
     "name": "stdout",
     "output_type": "stream",
     "text": [
      "<class 'list'>\n",
      "('all', 56, 9.8)\n",
      "<class 'tuple'>\n"
     ]
    }
   ],
   "source": [
    "tuple3=list(tuple3)\n",
    "tuple3[0]=\"all\"\n",
    "print(type(tuple3))\n",
    "tuple3=tuple(tuple3)\n",
    "print(tuple3)\n",
    "print(type(tuple3))"
   ]
  },
  {
   "cell_type": "code",
   "execution_count": null,
   "id": "f568d9f2",
   "metadata": {},
   "outputs": [],
   "source": []
  },
  {
   "cell_type": "markdown",
   "id": "b89fa9d1",
   "metadata": {},
   "source": [
    "#### Dictionary\n",
    "A collection of unordered set of key:value pairs.\n",
    "\n",
    "- Create dictionaries by using {} or dict()\n",
    "\n",
    "- Keys are unique.\n",
    "\n",
    "- values are accessed by using keys, not by index\n",
    "\n",
    "- Dictionaries are mutable.\n",
    "\n",
    "- Dicitonaries are iterables."
   ]
  },
  {
   "cell_type": "code",
   "execution_count": 43,
   "id": "9d852f71",
   "metadata": {},
   "outputs": [],
   "source": [
    "dict1={}\n",
    "dict2=dict()"
   ]
  },
  {
   "cell_type": "code",
   "execution_count": 44,
   "id": "d68e799b",
   "metadata": {},
   "outputs": [
    {
     "name": "stdout",
     "output_type": "stream",
     "text": [
      "<class 'dict'>\n",
      "<class 'dict'>\n"
     ]
    }
   ],
   "source": [
    "print(type(dict1));print(type(dict2))"
   ]
  },
  {
   "cell_type": "code",
   "execution_count": 45,
   "id": "035c82b1",
   "metadata": {},
   "outputs": [
    {
     "data": {
      "text/plain": [
       "{'first': 121, 'second': 'prog', 'third': 8.7}"
      ]
     },
     "execution_count": 45,
     "metadata": {},
     "output_type": "execute_result"
    }
   ],
   "source": [
    "dict3={'first':121,'second':\"prog\",'third':8.7}\n",
    "dict3"
   ]
  },
  {
   "cell_type": "code",
   "execution_count": 46,
   "id": "13953419",
   "metadata": {},
   "outputs": [
    {
     "ename": "KeyError",
     "evalue": "0",
     "output_type": "error",
     "traceback": [
      "\u001b[1;31m---------------------------------------------------------------------------\u001b[0m",
      "\u001b[1;31mKeyError\u001b[0m                                  Traceback (most recent call last)",
      "\u001b[1;32m~\\AppData\\Local\\Temp\\ipykernel_15744\\3551479597.py\u001b[0m in \u001b[0;36m<module>\u001b[1;34m\u001b[0m\n\u001b[1;32m----> 1\u001b[1;33m \u001b[0mdict3\u001b[0m\u001b[1;33m[\u001b[0m\u001b[1;36m0\u001b[0m\u001b[1;33m]\u001b[0m\u001b[1;33m\u001b[0m\u001b[1;33m\u001b[0m\u001b[0m\n\u001b[0m",
      "\u001b[1;31mKeyError\u001b[0m: 0"
     ]
    }
   ],
   "source": [
    "dict3[0]"
   ]
  },
  {
   "cell_type": "code",
   "execution_count": 47,
   "id": "16adb177",
   "metadata": {},
   "outputs": [
    {
     "data": {
      "text/plain": [
       "121"
      ]
     },
     "execution_count": 47,
     "metadata": {},
     "output_type": "execute_result"
    }
   ],
   "source": [
    "dict3[\"first\"]"
   ]
  },
  {
   "cell_type": "code",
   "execution_count": 48,
   "id": "754ec533",
   "metadata": {},
   "outputs": [
    {
     "data": {
      "text/plain": [
       "{'first': 12000, 'second': 'prog', 'third': 8.7}"
      ]
     },
     "execution_count": 48,
     "metadata": {},
     "output_type": "execute_result"
    }
   ],
   "source": [
    "dict3[\"first\"]=12000\n",
    "dict3"
   ]
  },
  {
   "cell_type": "code",
   "execution_count": 49,
   "id": "bac7664a",
   "metadata": {},
   "outputs": [
    {
     "name": "stdout",
     "output_type": "stream",
     "text": [
      "['__add__', '__class__', '__class_getitem__', '__contains__', '__delattr__', '__delitem__', '__dir__', '__doc__', '__eq__', '__format__', '__ge__', '__getattribute__', '__getitem__', '__gt__', '__hash__', '__iadd__', '__imul__', '__init__', '__init_subclass__', '__iter__', '__le__', '__len__', '__lt__', '__mul__', '__ne__', '__new__', '__reduce__', '__reduce_ex__', '__repr__', '__reversed__', '__rmul__', '__setattr__', '__setitem__', '__sizeof__', '__str__', '__subclasshook__', 'append', 'clear', 'copy', 'count', 'extend', 'index', 'insert', 'pop', 'remove', 'reverse', 'sort']\n"
     ]
    }
   ],
   "source": [
    "print(dir(list3))"
   ]
  },
  {
   "cell_type": "code",
   "execution_count": 50,
   "id": "3cc03251",
   "metadata": {},
   "outputs": [
    {
     "name": "stdout",
     "output_type": "stream",
     "text": [
      "['__class__', '__class_getitem__', '__contains__', '__delattr__', '__delitem__', '__dir__', '__doc__', '__eq__', '__format__', '__ge__', '__getattribute__', '__getitem__', '__gt__', '__hash__', '__init__', '__init_subclass__', '__ior__', '__iter__', '__le__', '__len__', '__lt__', '__ne__', '__new__', '__or__', '__reduce__', '__reduce_ex__', '__repr__', '__reversed__', '__ror__', '__setattr__', '__setitem__', '__sizeof__', '__str__', '__subclasshook__', 'clear', 'copy', 'fromkeys', 'get', 'items', 'keys', 'pop', 'popitem', 'setdefault', 'update', 'values']\n"
     ]
    }
   ],
   "source": [
    "print(dir(dict3))"
   ]
  },
  {
   "cell_type": "code",
   "execution_count": 52,
   "id": "be7dd889",
   "metadata": {},
   "outputs": [
    {
     "data": {
      "text/plain": [
       "dict_values([12000, 'prog', 8.7])"
      ]
     },
     "execution_count": 52,
     "metadata": {},
     "output_type": "execute_result"
    }
   ],
   "source": [
    "dict3.values()"
   ]
  },
  {
   "cell_type": "code",
   "execution_count": 53,
   "id": "7fd6613c",
   "metadata": {},
   "outputs": [
    {
     "data": {
      "text/plain": [
       "dict_keys(['first', 'second', 'third'])"
      ]
     },
     "execution_count": 53,
     "metadata": {},
     "output_type": "execute_result"
    }
   ],
   "source": [
    "dict3.keys()"
   ]
  },
  {
   "cell_type": "code",
   "execution_count": 54,
   "id": "12ab4c97",
   "metadata": {},
   "outputs": [
    {
     "data": {
      "text/plain": [
       "dict_items([('first', 12000), ('second', 'prog'), ('third', 8.7)])"
      ]
     },
     "execution_count": 54,
     "metadata": {},
     "output_type": "execute_result"
    }
   ],
   "source": [
    "dict3.items()"
   ]
  },
  {
   "cell_type": "code",
   "execution_count": null,
   "id": "eb3fb584",
   "metadata": {},
   "outputs": [],
   "source": []
  }
 ],
 "metadata": {
  "kernelspec": {
   "display_name": "Python 3 (ipykernel)",
   "language": "python",
   "name": "python3"
  },
  "language_info": {
   "codemirror_mode": {
    "name": "ipython",
    "version": 3
   },
   "file_extension": ".py",
   "mimetype": "text/x-python",
   "name": "python",
   "nbconvert_exporter": "python",
   "pygments_lexer": "ipython3",
   "version": "3.9.13"
  }
 },
 "nbformat": 4,
 "nbformat_minor": 5
}
