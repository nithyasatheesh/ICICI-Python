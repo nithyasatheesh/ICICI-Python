{
 "cells": [
  {
   "cell_type": "markdown",
   "id": "94e77b45",
   "metadata": {},
   "source": [
    "### Python Basics\n",
    "\n",
    "- Variables\n",
    "\n",
    "+ Keywords\n",
    "\n",
    "* Whitespace & comments\n",
    "                           \n",
    "- Data Types\n",
    "           \n",
    "- User input & output\n",
    "\n",
    "- Operators\n"
   ]
  },
  {
   "cell_type": "markdown",
   "id": "fe5a9775",
   "metadata": {},
   "source": [
    "### create a variable"
   ]
  },
  {
   "cell_type": "code",
   "execution_count": 53,
   "id": "25734621",
   "metadata": {},
   "outputs": [],
   "source": [
    "a=23"
   ]
  },
  {
   "cell_type": "markdown",
   "id": "f26b72dc",
   "metadata": {},
   "source": [
    "### pep-8 documentation\n",
    "- variable name should not start with digit\n",
    "- Cannot add special symbols except _"
   ]
  },
  {
   "cell_type": "code",
   "execution_count": 3,
   "id": "9719a005",
   "metadata": {},
   "outputs": [],
   "source": [
    "a1=9"
   ]
  },
  {
   "cell_type": "code",
   "execution_count": 6,
   "id": "b082bdd2",
   "metadata": {},
   "outputs": [
    {
     "ename": "SyntaxError",
     "evalue": "cannot assign to operator (4195798940.py, line 1)",
     "output_type": "error",
     "traceback": [
      "\u001b[1;36m  File \u001b[1;32m\"C:\\Users\\nithyalakshmim\\AppData\\Local\\Temp\\ipykernel_27620\\4195798940.py\"\u001b[1;36m, line \u001b[1;32m1\u001b[0m\n\u001b[1;33m    a+b=45\u001b[0m\n\u001b[1;37m    ^\u001b[0m\n\u001b[1;31mSyntaxError\u001b[0m\u001b[1;31m:\u001b[0m cannot assign to operator\n"
     ]
    }
   ],
   "source": [
    "a+b=45"
   ]
  },
  {
   "cell_type": "code",
   "execution_count": 5,
   "id": "1a134f4c",
   "metadata": {},
   "outputs": [],
   "source": [
    "a_b=45"
   ]
  },
  {
   "cell_type": "markdown",
   "id": "bece1454",
   "metadata": {},
   "source": [
    "### Keywords\n",
    "\n",
    "Reserved words."
   ]
  },
  {
   "cell_type": "raw",
   "id": "dad88708",
   "metadata": {},
   "source": [
    "All the keywords except True, False and None are in lowercase and they must be written as they are.\n",
    "\n",
    "The list of all the keywords is given below.\n",
    "\n",
    "False\tawait\telse\timport\tpass\n",
    "\n",
    "None\tbreak\texcept\tin\traise\n",
    "\n",
    "True\tclass\tfinally\tis\treturn\n",
    "\n",
    "and\tcontinue\tfor\tlambda\ttry\n",
    "\n",
    "as\tdef\tfrom\tnonlocal\twhile\n",
    "\n",
    "assert\tdel\tglobal\tnot\twith\n",
    "\n",
    "async\telif\tif\tor\tyield\n"
   ]
  },
  {
   "cell_type": "markdown",
   "id": "fd567433",
   "metadata": {},
   "source": [
    "#### Whitespace & Comment"
   ]
  },
  {
   "cell_type": "markdown",
   "id": "f7e1b9bb",
   "metadata": {},
   "source": [
    "- Indentation: A code block (body of a function, loop, etc.) starts with indentation.\n",
    "Generally, four whitespaces are used for indentation and are preferred over tabs.\n",
    "\n",
    "- Comment: A Python comment is a line of text that appears in a program but is not executed by the program."
   ]
  },
  {
   "cell_type": "markdown",
   "id": "9032d41c",
   "metadata": {},
   "source": [
    "Single line comments: Python single-line comment starts with a hashtag symbol with no white spaces (#) and lasts till the end of the line. If the comment exceeds one line then put a hashtag on the next line and continue the comment.\n",
    "Multi-line string as a comment: Python multi-line comment is a piece of text enclosed in a delimiter (“””) on each end of the comment. Again there should be no white space between delimiter (“””)."
   ]
  },
  {
   "cell_type": "code",
   "execution_count": 7,
   "id": "c18be3c8",
   "metadata": {},
   "outputs": [],
   "source": [
    "\"\"\" This is the first line comment\n",
    "this is the second line comment\"\"\"\n",
    "new=4567"
   ]
  },
  {
   "cell_type": "markdown",
   "id": "f4d9fdd9",
   "metadata": {},
   "source": [
    "### Data Types\n",
    "\n",
    "- numeric (int,float)\n",
    "\n",
    "- bool\n",
    "\n",
    "- string"
   ]
  },
  {
   "cell_type": "code",
   "execution_count": 8,
   "id": "3934a894",
   "metadata": {},
   "outputs": [
    {
     "data": {
      "text/plain": [
       "int"
      ]
     },
     "execution_count": 8,
     "metadata": {},
     "output_type": "execute_result"
    }
   ],
   "source": [
    "# int\n",
    "var1=2345\n",
    "type(var1)"
   ]
  },
  {
   "cell_type": "code",
   "execution_count": 9,
   "id": "eee5fbf7",
   "metadata": {},
   "outputs": [
    {
     "data": {
      "text/plain": [
       "float"
      ]
     },
     "execution_count": 9,
     "metadata": {},
     "output_type": "execute_result"
    }
   ],
   "source": [
    "#float\n",
    "var2=567.90\n",
    "type(var2)"
   ]
  },
  {
   "cell_type": "code",
   "execution_count": 11,
   "id": "394f7ee4",
   "metadata": {},
   "outputs": [
    {
     "data": {
      "text/plain": [
       "bool"
      ]
     },
     "execution_count": 11,
     "metadata": {},
     "output_type": "execute_result"
    }
   ],
   "source": [
    "#bool\n",
    "var3=True\n",
    "type(var3)"
   ]
  },
  {
   "cell_type": "code",
   "execution_count": 14,
   "id": "14cf1f00",
   "metadata": {},
   "outputs": [
    {
     "data": {
      "text/plain": [
       "str"
      ]
     },
     "execution_count": 14,
     "metadata": {},
     "output_type": "execute_result"
    }
   ],
   "source": [
    "#string\n",
    "var4='welcome'\n",
    "var5=\"weclome567  \"\n",
    "\n",
    "type(var5)"
   ]
  },
  {
   "cell_type": "code",
   "execution_count": 16,
   "id": "d61a6391",
   "metadata": {},
   "outputs": [
    {
     "data": {
      "text/plain": [
       "'weclome567  '"
      ]
     },
     "execution_count": 16,
     "metadata": {},
     "output_type": "execute_result"
    }
   ],
   "source": [
    "var5"
   ]
  },
  {
   "cell_type": "markdown",
   "id": "0c62019a",
   "metadata": {},
   "source": [
    "### string operations"
   ]
  },
  {
   "cell_type": "markdown",
   "id": "8967f75f",
   "metadata": {},
   "source": [
    "- strings are iterables \n",
    "\n",
    "+ strings are immutables\n",
    "\n",
    "* cannot add numeric values to string object"
   ]
  },
  {
   "cell_type": "code",
   "execution_count": null,
   "id": "2b718658",
   "metadata": {},
   "outputs": [],
   "source": [
    "#python index starts from 0"
   ]
  },
  {
   "cell_type": "code",
   "execution_count": 17,
   "id": "9a6cfea3",
   "metadata": {},
   "outputs": [
    {
     "data": {
      "text/plain": [
       "'welcome'"
      ]
     },
     "execution_count": 17,
     "metadata": {},
     "output_type": "execute_result"
    }
   ],
   "source": [
    "var4"
   ]
  },
  {
   "cell_type": "code",
   "execution_count": 21,
   "id": "50837dec",
   "metadata": {},
   "outputs": [
    {
     "data": {
      "text/plain": [
       "'e'"
      ]
     },
     "execution_count": 21,
     "metadata": {},
     "output_type": "execute_result"
    }
   ],
   "source": [
    "# iterables\n",
    "#extract letter 'e' from var4\n",
    "var4[1]"
   ]
  },
  {
   "cell_type": "code",
   "execution_count": 25,
   "id": "aacbc134",
   "metadata": {},
   "outputs": [
    {
     "data": {
      "text/plain": [
       "'lcome'"
      ]
     },
     "execution_count": 25,
     "metadata": {},
     "output_type": "execute_result"
    }
   ],
   "source": [
    "var4[2:]# [start:end]end is exclusive"
   ]
  },
  {
   "cell_type": "code",
   "execution_count": 23,
   "id": "38f235ad",
   "metadata": {},
   "outputs": [
    {
     "data": {
      "text/plain": [
       "'welcome'"
      ]
     },
     "execution_count": 23,
     "metadata": {},
     "output_type": "execute_result"
    }
   ],
   "source": [
    "var4[:]"
   ]
  },
  {
   "cell_type": "code",
   "execution_count": 31,
   "id": "569f497b",
   "metadata": {},
   "outputs": [
    {
     "ename": "IndexError",
     "evalue": "string index out of range",
     "output_type": "error",
     "traceback": [
      "\u001b[1;31m---------------------------------------------------------------------------\u001b[0m",
      "\u001b[1;31mIndexError\u001b[0m                                Traceback (most recent call last)",
      "\u001b[1;32m~\\AppData\\Local\\Temp\\ipykernel_27620\\1498641556.py\u001b[0m in \u001b[0;36m<module>\u001b[1;34m\u001b[0m\n\u001b[1;32m----> 1\u001b[1;33m \u001b[0mvar4\u001b[0m\u001b[1;33m[\u001b[0m\u001b[1;36m8\u001b[0m\u001b[1;33m]\u001b[0m\u001b[1;33m\u001b[0m\u001b[1;33m\u001b[0m\u001b[0m\n\u001b[0m",
      "\u001b[1;31mIndexError\u001b[0m: string index out of range"
     ]
    }
   ],
   "source": [
    "var4[8]"
   ]
  },
  {
   "cell_type": "code",
   "execution_count": 32,
   "id": "9b24b33d",
   "metadata": {},
   "outputs": [
    {
     "data": {
      "text/plain": [
       "'wlo'"
      ]
     },
     "execution_count": 32,
     "metadata": {},
     "output_type": "execute_result"
    }
   ],
   "source": [
    "var4[:6:2] #[start:end:step]"
   ]
  },
  {
   "cell_type": "code",
   "execution_count": 19,
   "id": "26810a39",
   "metadata": {},
   "outputs": [
    {
     "name": "stdout",
     "output_type": "stream",
     "text": [
      "w\n",
      "e\n",
      "l\n",
      "c\n",
      "o\n",
      "m\n",
      "e\n"
     ]
    }
   ],
   "source": [
    "for i in var4:\n",
    "    print(i)"
   ]
  },
  {
   "cell_type": "code",
   "execution_count": 33,
   "id": "04eccb6f",
   "metadata": {},
   "outputs": [
    {
     "ename": "TypeError",
     "evalue": "'str' object does not support item assignment",
     "output_type": "error",
     "traceback": [
      "\u001b[1;31m---------------------------------------------------------------------------\u001b[0m",
      "\u001b[1;31mTypeError\u001b[0m                                 Traceback (most recent call last)",
      "\u001b[1;32m~\\AppData\\Local\\Temp\\ipykernel_27620\\4017730782.py\u001b[0m in \u001b[0;36m<module>\u001b[1;34m\u001b[0m\n\u001b[0;32m      1\u001b[0m \u001b[1;31m## immutable\u001b[0m\u001b[1;33m\u001b[0m\u001b[1;33m\u001b[0m\u001b[0m\n\u001b[1;32m----> 2\u001b[1;33m \u001b[0mvar4\u001b[0m\u001b[1;33m[\u001b[0m\u001b[1;36m0\u001b[0m\u001b[1;33m]\u001b[0m\u001b[1;33m=\u001b[0m\u001b[1;34m\"S\"\u001b[0m\u001b[1;33m\u001b[0m\u001b[1;33m\u001b[0m\u001b[0m\n\u001b[0m",
      "\u001b[1;31mTypeError\u001b[0m: 'str' object does not support item assignment"
     ]
    }
   ],
   "source": [
    "## immutable\n",
    "var4[0]=\"S\""
   ]
  },
  {
   "cell_type": "code",
   "execution_count": 36,
   "id": "5a7d02ea",
   "metadata": {},
   "outputs": [
    {
     "data": {
      "text/plain": [
       "'Selcome'"
      ]
     },
     "execution_count": 36,
     "metadata": {},
     "output_type": "execute_result"
    }
   ],
   "source": [
    "\"S\"+var4[1:]"
   ]
  },
  {
   "cell_type": "code",
   "execution_count": 35,
   "id": "6b76102b",
   "metadata": {},
   "outputs": [
    {
     "data": {
      "text/plain": [
       "'Sel6come'"
      ]
     },
     "execution_count": 35,
     "metadata": {},
     "output_type": "execute_result"
    }
   ],
   "source": [
    "\"S\"+var4[1:3]+\"6\"+var4[3:]"
   ]
  },
  {
   "cell_type": "markdown",
   "id": "a3de054c",
   "metadata": {},
   "source": [
    "### Operators \n",
    "\n",
    "Operators are used to perform operations on variables and values.OPERATORS: Are the special symbols. Eg- + , * , /, etc.\n",
    "\n",
    "- Arithmetic operators\n",
    "- Relational operators\n",
    "- Boolean operators\n",
    "- Assignment operators"
   ]
  },
  {
   "cell_type": "markdown",
   "id": "48551e77",
   "metadata": {},
   "source": [
    "#### Arithmetic operators"
   ]
  },
  {
   "cell_type": "raw",
   "id": "30c2fbc1",
   "metadata": {},
   "source": [
    "Operator\tDescription\tSyntax\n",
    "+\t          Addition: adds two operands\tx + y\n",
    "–\t          Subtraction: subtracts two operands\tx – y\n",
    "*\t          Multiplication: multiplies two operands\tx * y\n",
    "/\t          Division (float): divides the first operand by the second\tx / y\n",
    "//\t          Division (floor): divides the first operand by the second\tx // y\n",
    "%\t          Modulo: returns the remainder when the first operand is divided by the second\tx % y\n",
    "**\t          Power: Returns first raised to power second\tx ** y\n"
   ]
  },
  {
   "cell_type": "code",
   "execution_count": 52,
   "id": "5dda8c09",
   "metadata": {},
   "outputs": [],
   "source": [
    "a=56\n",
    "b=67"
   ]
  },
  {
   "cell_type": "code",
   "execution_count": 38,
   "id": "06495899",
   "metadata": {},
   "outputs": [
    {
     "data": {
      "text/plain": [
       "123"
      ]
     },
     "execution_count": 38,
     "metadata": {},
     "output_type": "execute_result"
    }
   ],
   "source": [
    "a+b"
   ]
  },
  {
   "cell_type": "code",
   "execution_count": 43,
   "id": "19ee5c58",
   "metadata": {},
   "outputs": [
    {
     "data": {
      "text/plain": [
       "-11"
      ]
     },
     "execution_count": 43,
     "metadata": {},
     "output_type": "execute_result"
    }
   ],
   "source": [
    "a-b"
   ]
  },
  {
   "cell_type": "code",
   "execution_count": 40,
   "id": "15f4fb83",
   "metadata": {},
   "outputs": [
    {
     "data": {
      "text/plain": [
       "11"
      ]
     },
     "execution_count": 40,
     "metadata": {},
     "output_type": "execute_result"
    }
   ],
   "source": [
    "abs(a-b)"
   ]
  },
  {
   "cell_type": "code",
   "execution_count": 41,
   "id": "652d26fb",
   "metadata": {},
   "outputs": [
    {
     "data": {
      "text/plain": [
       "3752"
      ]
     },
     "execution_count": 41,
     "metadata": {},
     "output_type": "execute_result"
    }
   ],
   "source": [
    "a*b"
   ]
  },
  {
   "cell_type": "code",
   "execution_count": 44,
   "id": "8bdbe390",
   "metadata": {},
   "outputs": [
    {
     "data": {
      "text/plain": [
       "0.835820895522388"
      ]
     },
     "execution_count": 44,
     "metadata": {},
     "output_type": "execute_result"
    }
   ],
   "source": [
    "a/b"
   ]
  },
  {
   "cell_type": "code",
   "execution_count": 48,
   "id": "8acbb4c1",
   "metadata": {},
   "outputs": [
    {
     "data": {
      "text/plain": [
       "0.84"
      ]
     },
     "execution_count": 48,
     "metadata": {},
     "output_type": "execute_result"
    }
   ],
   "source": [
    "#c=a/b\n",
    "round(a/b,2)"
   ]
  },
  {
   "cell_type": "code",
   "execution_count": 45,
   "id": "d342f427",
   "metadata": {},
   "outputs": [
    {
     "data": {
      "text/plain": [
       "0"
      ]
     },
     "execution_count": 45,
     "metadata": {},
     "output_type": "execute_result"
    }
   ],
   "source": [
    "a//b   # returns int value from the output"
   ]
  },
  {
   "cell_type": "code",
   "execution_count": 46,
   "id": "4ee4f859",
   "metadata": {},
   "outputs": [
    {
     "data": {
      "text/plain": [
       "3136"
      ]
     },
     "execution_count": 46,
     "metadata": {},
     "output_type": "execute_result"
    }
   ],
   "source": [
    "a**2   #power: 56 to the power 2"
   ]
  },
  {
   "cell_type": "markdown",
   "id": "a25e63c6",
   "metadata": {},
   "source": [
    "#### Relational operators"
   ]
  },
  {
   "cell_type": "raw",
   "id": "d2031ae0",
   "metadata": {},
   "source": [
    "Operator\t                             Description\t                                      Syntax\n",
    "<\t                               Less than: True if the left operand is less than the right\tx < y\n",
    "==\t                               Equal to: True if both operands are equal\t                x == y\n",
    "!=\t                               Not equal to – True if operands are not equal\t            x != y\n",
    ">=\t                               Greater than or equal to: True if left operand is            x >= y\n",
    "                                     greater than or equal to the right\t"
   ]
  },
  {
   "cell_type": "code",
   "execution_count": 49,
   "id": "8de4ff62",
   "metadata": {},
   "outputs": [
    {
     "data": {
      "text/plain": [
       "True"
      ]
     },
     "execution_count": 49,
     "metadata": {},
     "output_type": "execute_result"
    }
   ],
   "source": [
    "a<b"
   ]
  },
  {
   "cell_type": "code",
   "execution_count": 50,
   "id": "61f4d825",
   "metadata": {},
   "outputs": [
    {
     "data": {
      "text/plain": [
       "False"
      ]
     },
     "execution_count": 50,
     "metadata": {},
     "output_type": "execute_result"
    }
   ],
   "source": [
    "a>b"
   ]
  },
  {
   "cell_type": "code",
   "execution_count": 51,
   "id": "c50e6788",
   "metadata": {},
   "outputs": [
    {
     "data": {
      "text/plain": [
       "False"
      ]
     },
     "execution_count": 51,
     "metadata": {},
     "output_type": "execute_result"
    }
   ],
   "source": [
    "a==b"
   ]
  },
  {
   "cell_type": "code",
   "execution_count": 56,
   "id": "54062786",
   "metadata": {},
   "outputs": [
    {
     "data": {
      "text/plain": [
       "True"
      ]
     },
     "execution_count": 56,
     "metadata": {},
     "output_type": "execute_result"
    }
   ],
   "source": [
    "a!=b"
   ]
  },
  {
   "cell_type": "markdown",
   "id": "020fe53f",
   "metadata": {},
   "source": [
    "#### Boolean operators\n",
    "The logical operators and, or and not are also referred to as boolean operators."
   ]
  },
  {
   "cell_type": "raw",
   "id": "1248a3d4",
   "metadata": {},
   "source": [
    "Operator\t             Description\t                                              Example\n",
    "\n",
    "and\t             Returns True if both statements are true\t                     x < 5 and x < 10\n",
    "or\t             Returns True if one of the statements is true\t                 x < 5 or x < 4\n",
    "not\t             Reverse the result, returns False if the result is true \t     not(x < 5 and x < 10)"
   ]
  },
  {
   "cell_type": "code",
   "execution_count": 57,
   "id": "b649f75c",
   "metadata": {},
   "outputs": [],
   "source": [
    "x=178\n",
    "y=835"
   ]
  },
  {
   "cell_type": "code",
   "execution_count": 60,
   "id": "6c031324",
   "metadata": {},
   "outputs": [
    {
     "data": {
      "text/plain": [
       "False"
      ]
     },
     "execution_count": 60,
     "metadata": {},
     "output_type": "execute_result"
    }
   ],
   "source": [
    "x<300 and y<500"
   ]
  },
  {
   "cell_type": "code",
   "execution_count": 61,
   "id": "30c99349",
   "metadata": {},
   "outputs": [
    {
     "data": {
      "text/plain": [
       "True"
      ]
     },
     "execution_count": 61,
     "metadata": {},
     "output_type": "execute_result"
    }
   ],
   "source": [
    "x<300 and y>500"
   ]
  },
  {
   "cell_type": "code",
   "execution_count": 62,
   "id": "b35f9a15",
   "metadata": {},
   "outputs": [
    {
     "data": {
      "text/plain": [
       "True"
      ]
     },
     "execution_count": 62,
     "metadata": {},
     "output_type": "execute_result"
    }
   ],
   "source": [
    "x<300 or y<500"
   ]
  },
  {
   "cell_type": "code",
   "execution_count": 63,
   "id": "e0f92fb7",
   "metadata": {},
   "outputs": [
    {
     "data": {
      "text/plain": [
       "True"
      ]
     },
     "execution_count": 63,
     "metadata": {},
     "output_type": "execute_result"
    }
   ],
   "source": [
    "z=0  #false statement\n",
    "not z"
   ]
  },
  {
   "cell_type": "code",
   "execution_count": 65,
   "id": "325bf297",
   "metadata": {},
   "outputs": [
    {
     "data": {
      "text/plain": [
       "False"
      ]
     },
     "execution_count": 65,
     "metadata": {},
     "output_type": "execute_result"
    }
   ],
   "source": [
    "x=175\n",
    "not x"
   ]
  },
  {
   "cell_type": "markdown",
   "id": "c320d55c",
   "metadata": {},
   "source": [
    "#### Assignment operators"
   ]
  },
  {
   "cell_type": "raw",
   "id": "1feaca1f",
   "metadata": {},
   "source": [
    "Python Assignment Operators\n",
    "Operator\t                     Example\t        Same As\n",
    "+=\t                              x += 3\t     x = x + 3\n",
    "-=\t                              x -= 3\t     x = x - 3\n",
    "*=\t                              x *= 3\t     x = x * 3\n",
    "/=\t                              x /= 3\t     x = x / 3"
   ]
  },
  {
   "cell_type": "code",
   "execution_count": 74,
   "id": "4612d1bf",
   "metadata": {},
   "outputs": [
    {
     "data": {
      "text/plain": [
       "4"
      ]
     },
     "execution_count": 74,
     "metadata": {},
     "output_type": "execute_result"
    }
   ],
   "source": [
    "t=1\n",
    "d=2\n",
    "#t=t+3\n",
    "t+=3\n",
    "t"
   ]
  },
  {
   "cell_type": "code",
   "execution_count": 71,
   "id": "13d739b4",
   "metadata": {},
   "outputs": [
    {
     "data": {
      "text/plain": [
       "6"
      ]
     },
     "execution_count": 71,
     "metadata": {},
     "output_type": "execute_result"
    }
   ],
   "source": [
    "t+d"
   ]
  },
  {
   "cell_type": "code",
   "execution_count": 72,
   "id": "6eb70916",
   "metadata": {},
   "outputs": [
    {
     "data": {
      "text/plain": [
       "1"
      ]
     },
     "execution_count": 72,
     "metadata": {},
     "output_type": "execute_result"
    }
   ],
   "source": [
    "d-=1\n",
    "d"
   ]
  },
  {
   "cell_type": "code",
   "execution_count": null,
   "id": "68395a09",
   "metadata": {},
   "outputs": [],
   "source": []
  },
  {
   "cell_type": "code",
   "execution_count": null,
   "id": "a2d93168",
   "metadata": {},
   "outputs": [],
   "source": []
  }
 ],
 "metadata": {
  "kernelspec": {
   "display_name": "Python 3 (ipykernel)",
   "language": "python",
   "name": "python3"
  },
  "language_info": {
   "codemirror_mode": {
    "name": "ipython",
    "version": 3
   },
   "file_extension": ".py",
   "mimetype": "text/x-python",
   "name": "python",
   "nbconvert_exporter": "python",
   "pygments_lexer": "ipython3",
   "version": "3.9.13"
  }
 },
 "nbformat": 4,
 "nbformat_minor": 5
}
