{
 "cells": [
  {
   "cell_type": "markdown",
   "metadata": {},
   "source": [
    "# Data Visualization"
   ]
  },
  {
   "cell_type": "markdown",
   "metadata": {},
   "source": [
    "Matplotlib: low level, provides lots of freedom\n",
    "\n",
    "\n",
    "Pandas Vizualization: easy to use interface,built on Matplotlib\n",
    "\n",
    "\n",
    "Seaborn: high-level interface,great defaut styles"
   ]
  },
  {
   "cell_type": "markdown",
   "metadata": {},
   "source": [
    "#matplotlib (specifically good for creating basic graphs like scatter chart, line chart, bar charts, histogram and many more)"
   ]
  },
  {
   "cell_type": "code",
   "execution_count": null,
   "metadata": {},
   "outputs": [],
   "source": [
    "import pandas as pd\n",
    "import numpy as np\n",
    "import matplotlib.pyplot as plt\n",
    "%matplotlib inline\n",
    "import seaborn as sns"
   ]
  },
  {
   "cell_type": "code",
   "execution_count": null,
   "metadata": {},
   "outputs": [],
   "source": [
    "iris=pd.read_csv('D://Files/iris.csv')\n",
    "wine=pd.read_csv('D://Files//wine.csv')"
   ]
  },
  {
   "cell_type": "code",
   "execution_count": null,
   "metadata": {},
   "outputs": [],
   "source": [
    "iris.head(3)"
   ]
  },
  {
   "cell_type": "code",
   "execution_count": null,
   "metadata": {},
   "outputs": [],
   "source": [
    "iris.shape"
   ]
  },
  {
   "cell_type": "code",
   "execution_count": null,
   "metadata": {},
   "outputs": [],
   "source": [
    "wine.head(2)"
   ]
  },
  {
   "cell_type": "markdown",
   "metadata": {},
   "source": [
    "# Univariate Plots"
   ]
  },
  {
   "cell_type": "markdown",
   "metadata": {},
   "source": [
    "# Histogram"
   ]
  },
  {
   "cell_type": "code",
   "execution_count": null,
   "metadata": {},
   "outputs": [],
   "source": [
    "#matplotlib\n",
    "plt.hist(wine.points,bins=10,alpha=0.6,color=\"blue\",width=3)\n",
    "plt.title(\"Wine review scores\")\n",
    "plt.xlabel(\"Points\")\n",
    "plt.ylabel(\"Values\")\n",
    "#alpha: makes the graph lot more transparent(default alpha is 1)"
   ]
  },
  {
   "cell_type": "markdown",
   "metadata": {},
   "source": [
    "# Bar Plot"
   ]
  },
  {
   "cell_type": "code",
   "execution_count": null,
   "metadata": {},
   "outputs": [],
   "source": [
    "plt.bar(iris['Species'],iris['Sepal.Length'],width=0.3,color='lightgreen',align='center')\n",
    "#plt.bar(iris['Species'],iris['Sepal.Width'],width=0.3,color='lightpink',align='edge') # align='edge'\n",
    "plt.title('Iris',fontsize=20)\n",
    "plt.xlabel('Species')\n",
    "#plt.ylabel()\n"
   ]
  },
  {
   "cell_type": "markdown",
   "metadata": {},
   "source": [
    "# Line plot"
   ]
  },
  {
   "cell_type": "code",
   "execution_count": null,
   "metadata": {},
   "outputs": [],
   "source": [
    "plt.plot(wine['points'])"
   ]
  },
  {
   "cell_type": "code",
   "execution_count": null,
   "metadata": {},
   "outputs": [],
   "source": [
    "plt.plot(iris['Sepal.Length'])"
   ]
  },
  {
   "cell_type": "markdown",
   "metadata": {},
   "source": [
    "# Box Plot"
   ]
  },
  {
   "cell_type": "code",
   "execution_count": null,
   "metadata": {},
   "outputs": [],
   "source": [
    "plt.boxplot(wine['points'],patch_artist=True,vert=True)\n",
    "# patch_artist= True : #fill with color\n",
    "#vert=True: Vertical box alignment"
   ]
  },
  {
   "cell_type": "raw",
   "metadata": {},
   "source": [
    "Bi Variate analysis"
   ]
  },
  {
   "cell_type": "markdown",
   "metadata": {},
   "source": [
    "# Scatter Plot"
   ]
  },
  {
   "cell_type": "code",
   "execution_count": null,
   "metadata": {},
   "outputs": [],
   "source": [
    "plt.scatter(iris['Sepal.Length'],iris['Sepal.Width'])\n",
    "#plt.xlabel('your xlabel')\n",
    "#plt.ylabel('your ylabel')\n",
    "#plt.title('your title')"
   ]
  },
  {
   "cell_type": "markdown",
   "metadata": {},
   "source": [
    "# Subplots"
   ]
  },
  {
   "cell_type": "code",
   "execution_count": null,
   "metadata": {},
   "outputs": [],
   "source": [
    "#fig:\n",
    "#axes:\n",
    "fig, axes= plt.subplots(nrows=2,ncols=1,figsize=(9,4))\n",
    "bplot1= axes[0].boxplot(wine['points'])\n",
    "bplot2=axes[1].boxplot(iris['Sepal.Length'])\n",
    "plt.savefig('matplotlib.png')"
   ]
  },
  {
   "cell_type": "code",
   "execution_count": null,
   "metadata": {},
   "outputs": [],
   "source": [
    "fig,axes= plt.subplots(nrows=2,ncols=2,figsize=(9,4))\n",
    "bplot1= axes[0][0].boxplot(wine['points'])\n",
    "bplot2=axes[0][1].plot(iris['Sepal.Length'])\n",
    "bplot3=axes[1][0].bar(iris['Species'],iris['Sepal.Width'],width=0.3,color='lightpink',align='center')\n",
    "bplot4=axes[1][1].scatter(iris['Sepal.Length'],iris['Sepal.Width'])\n",
    "\n",
    "plt.savefig('matplotlib2.png')"
   ]
  },
  {
   "cell_type": "markdown",
   "metadata": {},
   "source": [
    "# Pandas Visualization"
   ]
  },
  {
   "cell_type": "markdown",
   "metadata": {},
   "source": [
    "Scatter plot"
   ]
  },
  {
   "cell_type": "markdown",
   "metadata": {},
   "source": [
    "To create a scatter plot in Pandas we can call .plot.scatter() and pass it two arguments, the name of the x-column as well as the name of the y-column. Optionally we can also pass it a title"
   ]
  },
  {
   "cell_type": "code",
   "execution_count": null,
   "metadata": {},
   "outputs": [],
   "source": [
    "iris.plot.scatter(x='Sepal.Length',y='Sepal.Width',title='Iris Dataset', figsize=(10,5),s=10,c=\"Green\")\n",
    "#figsize=(width,height)\n",
    "# s is size of the dots"
   ]
  },
  {
   "cell_type": "markdown",
   "metadata": {},
   "source": [
    "### Line Chart"
   ]
  },
  {
   "cell_type": "markdown",
   "metadata": {},
   "source": [
    "#To create a line-chart in Pandas we can call .plot.line()"
   ]
  },
  {
   "cell_type": "code",
   "execution_count": null,
   "metadata": {},
   "outputs": [],
   "source": [
    "iris.drop(['Species'],axis=1).plot.line(title='Iris Dataset',figsize=(10,5))"
   ]
  },
  {
   "cell_type": "markdown",
   "metadata": {},
   "source": [
    "#Histogram"
   ]
  },
  {
   "cell_type": "markdown",
   "metadata": {},
   "source": [
    "#In Pandas, we can create a Histogram with the plot.hist method. There aren't any required arguments but we can optionally pass some like the bin size"
   ]
  },
  {
   "cell_type": "code",
   "execution_count": null,
   "metadata": {},
   "outputs": [],
   "source": [
    "wine['points'].plot.hist(bins=5)"
   ]
  },
  {
   "cell_type": "code",
   "execution_count": null,
   "metadata": {},
   "outputs": [],
   "source": [
    "iris.plot.hist(subplots=True,layout=(2,2),figsize=(10,10),bins=20,alpha=0.5)\n",
    "#alpha: makes the graph lot more transparent(default alpha is 1)"
   ]
  },
  {
   "cell_type": "markdown",
   "metadata": {},
   "source": [
    "#### The subplot arguments specifies that we  want a separate plot for each feature and the layout specifies the number of the plots per row and column"
   ]
  },
  {
   "cell_type": "markdown",
   "metadata": {},
   "source": [
    "# Bar Chart"
   ]
  },
  {
   "cell_type": "markdown",
   "metadata": {},
   "source": [
    "To plot a bar-chart we can use plot.bar() method, but before we can call this we need to get our data. For this we will first count the occurrences using the value_count() method and then sort the occurrences from smallest to largest using sort_index() method"
   ]
  },
  {
   "cell_type": "code",
   "execution_count": null,
   "metadata": {},
   "outputs": [],
   "source": [
    "wine['points'].value_counts().sort_index().plot.bar()"
   ]
  },
  {
   "cell_type": "code",
   "execution_count": null,
   "metadata": {},
   "outputs": [],
   "source": [
    "wine['points'].value_counts().sort_index().plot.bar(color='magenta',alpha=0.5)"
   ]
  },
  {
   "cell_type": "markdown",
   "metadata": {},
   "source": [
    "# Seaborn"
   ]
  },
  {
   "cell_type": "markdown",
   "metadata": {},
   "source": [
    "Scatter plot \n",
    "\n",
    "We can use the .scatterplot method for creating a scatterplot, and just as in Pandas we need to pass it the column names of the x and y data"
   ]
  },
  {
   "cell_type": "code",
   "execution_count": null,
   "metadata": {},
   "outputs": [],
   "source": [
    "sns.scatterplot(x='Sepal.Length',y='Sepal.Width', hue='Species', data=iris)\n",
    "# We can aslo highlight the points by class using the hue argument, which is a lot easier than matplotlib.\n",
    "#Order for the levels of the hue variable in the palette.\n",
    "#Set of colors for mapping the hue variable"
   ]
  },
  {
   "cell_type": "markdown",
   "metadata": {},
   "source": [
    "#Line chart\n",
    "\n",
    "To create a line-chart the sns.lineplot method can be used. The only required argument is the data,which in our case are the four numeric columns from the Iris dataset"
   ]
  },
  {
   "cell_type": "code",
   "execution_count": null,
   "metadata": {},
   "outputs": [],
   "source": [
    "sns.lineplot(data=iris.drop(['Species'], axis=1))"
   ]
  },
  {
   "cell_type": "markdown",
   "metadata": {},
   "source": [
    "# Seaborn"
   ]
  },
  {
   "cell_type": "markdown",
   "metadata": {},
   "source": [
    "Histogram\n",
    "\n",
    "To create a histogram in Seaborn we use the sns.distplot method. We need to pass it the column we want to plot and it will calculate the occurrences itself.We can also pass it to the number of bins"
   ]
  },
  {
   "cell_type": "code",
   "execution_count": null,
   "metadata": {},
   "outputs": [],
   "source": [
    "sns.distplot(wine['points'],bins=10)\n",
    "#kde: estimates the probability density function"
   ]
  },
  {
   "cell_type": "code",
   "execution_count": null,
   "metadata": {},
   "outputs": [],
   "source": [
    "sns.distplot(wine['points'],bins=10,kde=False)"
   ]
  },
  {
   "cell_type": "code",
   "execution_count": null,
   "metadata": {},
   "outputs": [],
   "source": [
    "#barplot\n",
    "sns.countplot(wine['points'])"
   ]
  },
  {
   "cell_type": "markdown",
   "metadata": {},
   "source": [
    "# Heatmap"
   ]
  },
  {
   "cell_type": "markdown",
   "metadata": {},
   "source": [
    "A Heatmap is a graphical representation of data where the individual values contained in a matrix are represented as colors. Heatmaps are perfect for exploring the correlation of features in a dataset"
   ]
  },
  {
   "cell_type": "code",
   "execution_count": null,
   "metadata": {},
   "outputs": [],
   "source": [
    "#fig, ax=plt.subplots(figsize=(10,10))\n",
    "sns.heatmap(iris.corr(),annot=True,square=True)\n",
    "#annot: If True, write data value in each cell\n"
   ]
  },
  {
   "cell_type": "code",
   "execution_count": null,
   "metadata": {},
   "outputs": [],
   "source": [
    "data = np.random.rand(4, 6)\n",
    "heat_map = sns.heatmap(data, annot=True,square=True)\n",
    "#plt.show()"
   ]
  }
 ],
 "metadata": {
  "kernelspec": {
   "display_name": "Python 3 (ipykernel)",
   "language": "python",
   "name": "python3"
  },
  "language_info": {
   "codemirror_mode": {
    "name": "ipython",
    "version": 3
   },
   "file_extension": ".py",
   "mimetype": "text/x-python",
   "name": "python",
   "nbconvert_exporter": "python",
   "pygments_lexer": "ipython3",
   "version": "3.9.13"
  }
 },
 "nbformat": 4,
 "nbformat_minor": 2
}
