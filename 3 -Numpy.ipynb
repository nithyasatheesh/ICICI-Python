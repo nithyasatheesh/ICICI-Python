{
 "cells": [
  {
   "cell_type": "markdown",
   "id": "e61371ea",
   "metadata": {},
   "source": [
    "### NumPy\n",
    "\n",
    "- NumPy stands for Numerical Python\n",
    "- A Python library that provides support for large, multi-dimensional arrays and matrices, along with a large collection of high-level mathematical functions to operate on these arrays\n",
    "\n",
    "#### Why NumPy?\n",
    "\n",
    "- NumPy aims to provide an array object that is up to 50x faster than traditional Python lists\n",
    "- The array object in NumPy is called ndarray; it provides a lot of supporting functions that make working with ndarray very easy\n",
    "- NumPy arrays are stored at one continuous place in memory unlike lists, so processes can access and manipulate them very efficiently which is the main reason why the former is faster than the latter\n"
   ]
  },
  {
   "cell_type": "markdown",
   "id": "921a7241",
   "metadata": {},
   "source": [
    "#### Creating ndarrays"
   ]
  },
  {
   "cell_type": "markdown",
   "id": "3d996929",
   "metadata": {},
   "source": [
    "To create an ndarray, we can pass a list, tuple or any array-like object into the array() method, and it will be converted into an ndarray"
   ]
  },
  {
   "cell_type": "code",
   "execution_count": null,
   "id": "f9b45d6a",
   "metadata": {},
   "outputs": [],
   "source": [
    "import numpy as np"
   ]
  },
  {
   "cell_type": "code",
   "execution_count": null,
   "id": "691ea058",
   "metadata": {},
   "outputs": [],
   "source": [
    "arr_1=np.array([1,2,3,4,5])\n",
    "arr_1"
   ]
  },
  {
   "cell_type": "code",
   "execution_count": null,
   "id": "755a8f87",
   "metadata": {},
   "outputs": [],
   "source": [
    "type(arr_1)"
   ]
  },
  {
   "cell_type": "code",
   "execution_count": null,
   "id": "01742d87",
   "metadata": {},
   "outputs": [],
   "source": [
    "arr_2=np.zeros((2,3))\n",
    "arr_2"
   ]
  },
  {
   "cell_type": "code",
   "execution_count": null,
   "id": "e55fa2f2",
   "metadata": {},
   "outputs": [],
   "source": [
    "arr_3=np.ones((2,3))\n",
    "arr_3"
   ]
  },
  {
   "cell_type": "code",
   "execution_count": null,
   "id": "f06f1be2",
   "metadata": {},
   "outputs": [],
   "source": [
    "arr_4=np.arange(4)\n",
    "arr_4"
   ]
  },
  {
   "cell_type": "code",
   "execution_count": null,
   "id": "c2e20af0",
   "metadata": {},
   "outputs": [],
   "source": [
    "arr_5=np.arange(1,10,2,dtype=np.int32)\n",
    "arr_5"
   ]
  },
  {
   "cell_type": "markdown",
   "id": "b9031cfa",
   "metadata": {},
   "source": [
    "#### Dimensions in Arrays\n",
    "A dimension in arrays is one level of array depth (nested arrays)\n",
    "\n",
    "`Nested array: arrays that have arrays as their elements`"
   ]
  },
  {
   "cell_type": "code",
   "execution_count": null,
   "id": "04ca47ab",
   "metadata": {},
   "outputs": [],
   "source": [
    "# zero dimensional\n",
    "a=np.array(23)\n",
    "a"
   ]
  },
  {
   "cell_type": "code",
   "execution_count": null,
   "id": "ed43d5e5",
   "metadata": {},
   "outputs": [],
   "source": [
    "# one dimensional\n",
    "b=np.array([3,4,5])\n",
    "b"
   ]
  },
  {
   "cell_type": "code",
   "execution_count": null,
   "id": "fcd7027e",
   "metadata": {},
   "outputs": [],
   "source": [
    "# two dimensional\n",
    "c=np.array([[1,2,3],[4,5,6]])\n",
    "c"
   ]
  },
  {
   "cell_type": "code",
   "execution_count": null,
   "id": "d3c891db",
   "metadata": {},
   "outputs": [],
   "source": [
    "print(a.ndim)\n",
    "print(b.ndim)\n",
    "print(c.ndim)"
   ]
  },
  {
   "cell_type": "markdown",
   "id": "906477b4",
   "metadata": {},
   "source": [
    "#### Array Indexing\n",
    "\n",
    "- Array indexing means accessing an array element by referring to its index number\n",
    "- The indexes in NumPy arrays start with 0, meaning that the first element has index 0, and the second has index 1, etc"
   ]
  },
  {
   "cell_type": "code",
   "execution_count": null,
   "id": "d6b14e46",
   "metadata": {},
   "outputs": [],
   "source": [
    "arr1 = np.array([23,67,9,84])\n",
    "arr1"
   ]
  },
  {
   "cell_type": "code",
   "execution_count": null,
   "id": "96634ebc",
   "metadata": {},
   "outputs": [],
   "source": [
    "# extract 84\n",
    "arr1[3]"
   ]
  },
  {
   "cell_type": "markdown",
   "id": "c1b8f427",
   "metadata": {},
   "source": [
    "#### Array Slicing\n",
    "\n",
    "- Slicing in python means taking elements from one given index to another given index\n",
    "- We may pass slice instead of index like this: `[start:end]`\n",
    "- We can also define the step: `[start:end:step]`\n",
    "- If we don't pass start it's considered 0\n",
    "- If we don't pass end it considers length of array in that dimension\n",
    "- If we don't pass step it's considered 1"
   ]
  },
  {
   "cell_type": "code",
   "execution_count": null,
   "id": "ab53e06a",
   "metadata": {},
   "outputs": [],
   "source": [
    "arr2 = np.array([1, 2, 3, 4, 5, 6, 7])\n",
    "arr2"
   ]
  },
  {
   "cell_type": "code",
   "execution_count": null,
   "id": "c2ad852e",
   "metadata": {},
   "outputs": [],
   "source": [
    "# extract 2,3,4,5\n",
    "arr2[1:5]  # end is exclusive"
   ]
  },
  {
   "cell_type": "code",
   "execution_count": null,
   "id": "23deecec",
   "metadata": {},
   "outputs": [],
   "source": [
    "arr3=np.array([[1,2,3,4,5],[6,7,8,9,10]])\n",
    "arr3"
   ]
  },
  {
   "cell_type": "code",
   "execution_count": null,
   "id": "aa4287e6",
   "metadata": {},
   "outputs": [],
   "source": [
    "# extract 7,8,9\n",
    "arr3[1,1:4]"
   ]
  },
  {
   "cell_type": "markdown",
   "id": "0676f646",
   "metadata": {},
   "source": [
    "### Numpy data types"
   ]
  },
  {
   "cell_type": "code",
   "execution_count": null,
   "id": "3fa98c94",
   "metadata": {},
   "outputs": [],
   "source": [
    "arr3.dtype"
   ]
  },
  {
   "cell_type": "code",
   "execution_count": null,
   "id": "aed5d600",
   "metadata": {},
   "outputs": [],
   "source": [
    "arr4=np.array([1.1,2.1,3.1])\n",
    "arr4.dtype"
   ]
  },
  {
   "cell_type": "code",
   "execution_count": null,
   "id": "6e2cd0ab",
   "metadata": {},
   "outputs": [],
   "source": [
    "arr5=arr4.astype('i')\n",
    "#arr5=arr4.astype(int)\n",
    "arr5.dtype"
   ]
  },
  {
   "cell_type": "markdown",
   "id": "2fdc6bfe",
   "metadata": {},
   "source": [
    "#### Shape of an Array\n",
    "\n",
    "- The shape of an array is the number of elements in each dimension\n",
    "- NumPy arrays have an attribute called shape that returns a tuple with each index having the number of corresponding elements"
   ]
  },
  {
   "cell_type": "code",
   "execution_count": null,
   "id": "a4d0f20f",
   "metadata": {},
   "outputs": [],
   "source": [
    "arr3"
   ]
  },
  {
   "cell_type": "code",
   "execution_count": null,
   "id": "1d6b4298",
   "metadata": {},
   "outputs": [],
   "source": [
    "arr3.shape"
   ]
  },
  {
   "cell_type": "markdown",
   "id": "331e9429",
   "metadata": {},
   "source": [
    "#### Reshaping Arrays\n",
    "\n",
    "- Reshaping means changing the shape of an array\n",
    "- By reshaping we can add or remove dimensions or change number of elements in each dimension"
   ]
  },
  {
   "cell_type": "code",
   "execution_count": null,
   "id": "8368caa9",
   "metadata": {},
   "outputs": [],
   "source": [
    "arr6=np.array([1,2,3,4,5,6,7,8,9,10,11,12])\n",
    "arr6"
   ]
  },
  {
   "cell_type": "code",
   "execution_count": null,
   "id": "1b43186f",
   "metadata": {},
   "outputs": [],
   "source": [
    "arr6=np.array([1,2,3,4,5,6,7,8,9,10,11,12])\n",
    "newarr=arr6.reshape(4,3)\n",
    "newarr"
   ]
  },
  {
   "cell_type": "code",
   "execution_count": null,
   "id": "eb310907",
   "metadata": {},
   "outputs": [],
   "source": [
    "# flattening array\n",
    "arr7=np.array([[1,2,3],[4,5,6]])\n",
    "arr7"
   ]
  },
  {
   "cell_type": "code",
   "execution_count": null,
   "id": "63fc366e",
   "metadata": {},
   "outputs": [],
   "source": [
    "newarr7=arr7.reshape(-1)\n",
    "newarr7"
   ]
  },
  {
   "cell_type": "code",
   "execution_count": null,
   "id": "1f669a51",
   "metadata": {},
   "outputs": [],
   "source": [
    "# addition\n",
    "arr1=np.array([[1,2,3],[4,5,6]])\n",
    "arr2=np.array([[7,8,9],[10,11,12]])\n",
    "np.add(arr1,arr2)\n",
    "np.subtract(arr1,arr2)\n",
    "np.multiply(arr1,arr2)\n",
    "np.divide(arr1,arr2)\n",
    "#matrix multiplication\n",
    "np.dot(arr1,arr2)\n",
    "#transpose\n",
    "arr1.transpose()\n",
    "arr1.T"
   ]
  },
  {
   "cell_type": "code",
   "execution_count": null,
   "id": "6a9d3472",
   "metadata": {},
   "outputs": [],
   "source": [
    "------------------------------------------ End--------------------------------------------------"
   ]
  }
 ],
 "metadata": {
  "kernelspec": {
   "display_name": "Python 3 (ipykernel)",
   "language": "python",
   "name": "python3"
  },
  "language_info": {
   "codemirror_mode": {
    "name": "ipython",
    "version": 3
   },
   "file_extension": ".py",
   "mimetype": "text/x-python",
   "name": "python",
   "nbconvert_exporter": "python",
   "pygments_lexer": "ipython3",
   "version": "3.9.13"
  }
 },
 "nbformat": 4,
 "nbformat_minor": 5
}
